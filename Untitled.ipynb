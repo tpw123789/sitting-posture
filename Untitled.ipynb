{
 "cells": [
  {
   "cell_type": "code",
   "execution_count": 78,
   "id": "257b68ae",
   "metadata": {},
   "outputs": [],
   "source": [
    "from sklearn.model_selection import train_test_split\n",
    "from tensorflow.keras.models import Sequential, load_model\n",
    "from tensorflow.keras.layers import Conv2D, MaxPooling2D\n",
    "from tensorflow.keras.layers import Dense, Dropout, GlobalAveragePooling2D\n",
    "from tensorflow.keras.losses import BinaryCrossentropy\n",
    "from tensorflow.keras.callbacks import EarlyStopping, ModelCheckpoint\n",
    "import pandas as pd\n",
    "import numpy as np\n",
    "from PIL import Image\n",
    "from file import File"
   ]
  },
  {
   "cell_type": "code",
   "execution_count": 79,
   "id": "2df6ecc8",
   "metadata": {},
   "outputs": [],
   "source": [
    "# train data\n",
    "file = File()\n",
    "img_combine_hd_arr = file.covert_image('./model/0519_crop_hd_save_pics/')\n",
    "img_combine_sho_arr = file.covert_image('./model/0519_crop_sho_save_pics/')\n",
    "img_combine_ft_arr = file.covert_image('./model/0519_crop_ft_save_pics/')"
   ]
  },
  {
   "cell_type": "code",
   "execution_count": 80,
   "id": "012caee1",
   "metadata": {},
   "outputs": [],
   "source": [
    "# test data\n",
    "ans = pd.read_csv('./model/0519_wrong_total_sit_value_combinefoot_0_9000.csv')\n",
    "ans_hd_arr = np.array(ans['head'])\n",
    "ans_sho_arr = np.array(ans['shoulder'])\n",
    "ans_ft_arr = np.array(ans['foot'])"
   ]
  },
  {
   "cell_type": "code",
   "execution_count": 99,
   "id": "c4eda141",
   "metadata": {},
   "outputs": [],
   "source": [
    "# split data\n",
    "hd_x_train, hd_x_test, hd_y_train, hd_y_test = train_test_split(img_combine_hd_arr, ans_hd_arr, test_size=0.1)\n",
    "sho_x_train, sho_x_test, sho_y_train, sho_y_test = train_test_split(img_combine_sho_arr, ans_sho_arr, test_size=0.1)\n",
    "ft_x_train, ft_x_test, ft_y_train, ft_y_test = train_test_split(img_combine_ft_arr, ans_ft_arr, test_size=0.1)"
   ]
  },
  {
   "cell_type": "code",
   "execution_count": 98,
   "id": "305a67d6",
   "metadata": {},
   "outputs": [
    {
     "name": "stdout",
     "output_type": "stream",
     "text": [
      "2/2 [==============================] - 1s 318ms/step - loss: 0.3876 - accuracy: 0.7458\n"
     ]
    },
    {
     "data": {
      "text/plain": [
       "[0.38756904006004333, 0.7457627058029175]"
      ]
     },
     "execution_count": 98,
     "metadata": {},
     "output_type": "execute_result"
    }
   ],
   "source": [
    "model_hd = load_model('./model/crop_hd_cnn.h5')\n",
    "model_sho = load_model('./model/crop_sho_cnn.h5')\n",
    "model_ft = load_model('./model/crop_ft_cnn.h5')\n",
    "# model.summary()\n",
    "hd_x_train_norm, hd_x_test_norm = hd_x_train / 255, hd_x_test / 255\n",
    "sho_x_train_norm, sho_x_test_norm = sho_x_train / 255, sho_x_test / 255\n",
    "ft_x_train_norm, ft_x_test_norm = ft_x_train / 255, ft_x_test / 255\n",
    "model_hd.evaluate(hd_x_test_norm, hd_y_test)\n",
    "# model_sho.evaluate(sho_x_test_norm, sho_y_test)\n",
    "# model_ft.evaluate(ft_x_test_norm, ft_y_test)"
   ]
  },
  {
   "cell_type": "code",
   "execution_count": 83,
   "id": "44a09009",
   "metadata": {},
   "outputs": [],
   "source": [
    "# create model \n",
    "layers = [\n",
    "    Conv2D(32, 3, padding=\"same\", activation=\"relu\", input_shape=(256, 256, 3)),\n",
    "    MaxPooling2D(),\n",
    "    Conv2D(64, 3, padding=\"same\", activation=\"relu\"),\n",
    "    MaxPooling2D(),\n",
    "    Conv2D(128, 3, padding=\"same\", activation=\"relu\"),\n",
    "    MaxPooling2D(),\n",
    "    Conv2D(256, 3, padding=\"same\", activation=\"relu\"),\n",
    "    MaxPooling2D(),\n",
    "    Conv2D(512, 3, padding=\"same\", activation=\"relu\"),\n",
    "    GlobalAveragePooling2D(),\n",
    "    Dense(1, activation=\"sigmoid\")\n",
    "]\n",
    "hd_model = Sequential(layers)\n",
    "# hd_model.summary()"
   ]
  },
  {
   "cell_type": "code",
   "execution_count": 84,
   "id": "c385ec8b",
   "metadata": {},
   "outputs": [],
   "source": [
    "# complile\n",
    "hd_model.compile(loss=BinaryCrossentropy(),\n",
    "       optimizer=\"adam\",\n",
    "       metrics=[\"accuracy\"])"
   ]
  },
  {
   "cell_type": "code",
   "execution_count": 87,
   "id": "15d536fb",
   "metadata": {},
   "outputs": [
    {
     "name": "stdout",
     "output_type": "stream",
     "text": [
      "Epoch 1/50\n",
      "24/24 - 22s - loss: 0.5491 - accuracy: 0.7611 - val_loss: 0.6015 - val_accuracy: 0.7170\n",
      "Epoch 2/50\n",
      "24/24 - 22s - loss: 0.5435 - accuracy: 0.7611 - val_loss: 0.5921 - val_accuracy: 0.7170\n",
      "Epoch 3/50\n",
      "24/24 - 22s - loss: 0.5468 - accuracy: 0.7611 - val_loss: 0.5933 - val_accuracy: 0.7170\n",
      "Epoch 4/50\n",
      "24/24 - 22s - loss: 0.5290 - accuracy: 0.7611 - val_loss: 0.5631 - val_accuracy: 0.7170\n",
      "Epoch 5/50\n",
      "24/24 - 22s - loss: 0.5596 - accuracy: 0.7611 - val_loss: 0.5977 - val_accuracy: 0.7170\n",
      "Epoch 6/50\n",
      "24/24 - 22s - loss: 0.5563 - accuracy: 0.7611 - val_loss: 0.6106 - val_accuracy: 0.7170\n",
      "Epoch 7/50\n",
      "24/24 - 22s - loss: 0.5311 - accuracy: 0.7611 - val_loss: 0.5654 - val_accuracy: 0.7170\n",
      "Epoch 8/50\n",
      "24/24 - 22s - loss: 0.4797 - accuracy: 0.7611 - val_loss: 0.4597 - val_accuracy: 0.7170\n",
      "Epoch 9/50\n",
      "24/24 - 22s - loss: 0.4332 - accuracy: 0.7548 - val_loss: 0.3996 - val_accuracy: 0.7170\n",
      "Epoch 10/50\n",
      "24/24 - 22s - loss: 0.4113 - accuracy: 0.7632 - val_loss: 0.3735 - val_accuracy: 0.8302\n",
      "Epoch 11/50\n",
      "24/24 - 22s - loss: 0.4552 - accuracy: 0.7611 - val_loss: 0.5487 - val_accuracy: 0.7170\n",
      "Epoch 12/50\n",
      "24/24 - 23s - loss: 0.4556 - accuracy: 0.7632 - val_loss: 0.3990 - val_accuracy: 0.7170\n",
      "Epoch 13/50\n",
      "24/24 - 24s - loss: 0.4401 - accuracy: 0.7463 - val_loss: 0.4513 - val_accuracy: 0.8679\n",
      "Epoch 14/50\n",
      "24/24 - 23s - loss: 0.4141 - accuracy: 0.7717 - val_loss: 0.3776 - val_accuracy: 0.7358\n",
      "Epoch 15/50\n",
      "24/24 - 24s - loss: 0.3931 - accuracy: 0.7865 - val_loss: 0.3575 - val_accuracy: 0.7925\n",
      "Epoch 16/50\n",
      "24/24 - 19s - loss: 0.4078 - accuracy: 0.7653 - val_loss: 0.3734 - val_accuracy: 0.7736\n",
      "Epoch 17/50\n",
      "24/24 - 20s - loss: 0.3962 - accuracy: 0.7822 - val_loss: 0.3154 - val_accuracy: 0.8868\n",
      "Epoch 18/50\n",
      "24/24 - 19s - loss: 0.4153 - accuracy: 0.7844 - val_loss: 0.3798 - val_accuracy: 0.7170\n",
      "Epoch 19/50\n",
      "24/24 - 19s - loss: 0.3813 - accuracy: 0.7949 - val_loss: 0.3334 - val_accuracy: 0.8113\n",
      "Epoch 20/50\n",
      "24/24 - 19s - loss: 0.3864 - accuracy: 0.8034 - val_loss: 0.3141 - val_accuracy: 0.8679\n",
      "Epoch 21/50\n",
      "24/24 - 19s - loss: 0.3930 - accuracy: 0.7844 - val_loss: 0.3209 - val_accuracy: 0.8491\n",
      "Epoch 22/50\n",
      "24/24 - 20s - loss: 0.3660 - accuracy: 0.8013 - val_loss: 0.3097 - val_accuracy: 0.8679\n",
      "Epoch 23/50\n",
      "24/24 - 21s - loss: 0.3697 - accuracy: 0.7928 - val_loss: 0.3538 - val_accuracy: 0.7925\n",
      "Epoch 24/50\n",
      "24/24 - 25s - loss: 0.3609 - accuracy: 0.8118 - val_loss: 0.3031 - val_accuracy: 0.8679\n",
      "Epoch 25/50\n",
      "24/24 - 29s - loss: 0.3609 - accuracy: 0.8224 - val_loss: 0.3274 - val_accuracy: 0.8491\n",
      "Epoch 26/50\n",
      "24/24 - 27s - loss: 0.3548 - accuracy: 0.8182 - val_loss: 0.3227 - val_accuracy: 0.8302\n",
      "Epoch 27/50\n",
      "24/24 - 25s - loss: 0.3699 - accuracy: 0.8055 - val_loss: 0.3451 - val_accuracy: 0.8868\n",
      "Epoch 28/50\n",
      "24/24 - 24s - loss: 0.3827 - accuracy: 0.7759 - val_loss: 0.3211 - val_accuracy: 0.9245\n",
      "Epoch 29/50\n",
      "24/24 - 26s - loss: 0.3906 - accuracy: 0.8055 - val_loss: 0.2990 - val_accuracy: 0.9245\n",
      "Epoch 30/50\n",
      "24/24 - 24s - loss: 0.3660 - accuracy: 0.8161 - val_loss: 0.3194 - val_accuracy: 0.8302\n",
      "Epoch 31/50\n",
      "24/24 - 25s - loss: 0.3407 - accuracy: 0.8288 - val_loss: 0.2648 - val_accuracy: 0.8679\n",
      "Epoch 32/50\n",
      "24/24 - 25s - loss: 0.3404 - accuracy: 0.8351 - val_loss: 0.3007 - val_accuracy: 0.8302\n",
      "Epoch 33/50\n",
      "24/24 - 25s - loss: 0.3273 - accuracy: 0.8584 - val_loss: 0.3143 - val_accuracy: 0.8679\n",
      "Epoch 34/50\n",
      "24/24 - 24s - loss: 0.3406 - accuracy: 0.8330 - val_loss: 0.4043 - val_accuracy: 0.7170\n",
      "Epoch 35/50\n",
      "24/24 - 24s - loss: 0.3308 - accuracy: 0.8266 - val_loss: 0.2959 - val_accuracy: 0.8868\n",
      "Epoch 36/50\n",
      "24/24 - 25s - loss: 0.3138 - accuracy: 0.8562 - val_loss: 0.3636 - val_accuracy: 0.8113\n"
     ]
    },
    {
     "data": {
      "text/plain": [
       "<tensorflow.python.keras.callbacks.History at 0x143c9c89c50>"
      ]
     },
     "execution_count": 87,
     "metadata": {},
     "output_type": "execute_result"
    }
   ],
   "source": [
    "hd_model.fit(hd_x_train_norm, hd_y_train, batch_size=20, epochs=50, validation_split=0.1, verbose=2,\n",
    "            callbacks=[\n",
    "                EarlyStopping(patience=5, restore_best_weights=True),\n",
    "                ModelCheckpoint(\"crop_hd_cnn.h5\", save_best_only=True)\n",
    "            ])"
   ]
  },
  {
   "cell_type": "code",
   "execution_count": 88,
   "id": "df6ac8ff",
   "metadata": {},
   "outputs": [
    {
     "name": "stdout",
     "output_type": "stream",
     "text": [
      "2/2 [==============================] - 1s 308ms/step - loss: 0.3228 - accuracy: 0.8475\n"
     ]
    },
    {
     "data": {
      "text/plain": [
       "[0.32276737689971924, 0.8474576473236084]"
      ]
     },
     "execution_count": 88,
     "metadata": {},
     "output_type": "execute_result"
    }
   ],
   "source": [
    "hd_model.evaluate(hd_x_test_norm, hd_y_test)"
   ]
  },
  {
   "cell_type": "code",
   "execution_count": null,
   "id": "2285dfe0",
   "metadata": {},
   "outputs": [],
   "source": [
    "\n"
   ]
  }
 ],
 "metadata": {
  "kernelspec": {
   "display_name": "Python 3",
   "language": "python",
   "name": "python3"
  },
  "language_info": {
   "codemirror_mode": {
    "name": "ipython",
    "version": 3
   },
   "file_extension": ".py",
   "mimetype": "text/x-python",
   "name": "python",
   "nbconvert_exporter": "python",
   "pygments_lexer": "ipython3",
   "version": "3.7.0"
  }
 },
 "nbformat": 4,
 "nbformat_minor": 5
}
