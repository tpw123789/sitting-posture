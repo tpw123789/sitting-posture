{
 "cells": [
  {
   "cell_type": "code",
   "execution_count": 85,
   "id": "05597b76",
   "metadata": {},
   "outputs": [],
   "source": [
    "from sklearn.model_selection import train_test_split\n",
    "from tensorflow.keras.models import Sequential\n",
    "from tensorflow.keras.layers import Conv2D, MaxPooling2D\n",
    "from tensorflow.keras.layers import Dense, Dropout, GlobalAveragePooling2D\n",
    "from tensorflow.keras.losses import BinaryCrossentropy\n",
    "import pandas as pd\n",
    "import numpy as np\n",
    "from file import File"
   ]
  },
  {
   "cell_type": "code",
   "execution_count": 49,
   "id": "ee589e59",
   "metadata": {},
   "outputs": [],
   "source": [
    "# train data\n",
    "file = File()\n",
    "img_combine_hd_arr = file.covert_image('0519_crop_hd_save_pics/')\n",
    "img_combine_sho_arr = file.covert_image('0519_crop_sho_save_pics/')\n",
    "img_combine_ft_arr = file.covert_image('0519_crop_ft_save_pics/')"
   ]
  },
  {
   "cell_type": "code",
   "execution_count": 68,
   "id": "7ad14b5e",
   "metadata": {},
   "outputs": [],
   "source": [
    "# test data\n",
    "ans = pd.read_csv('0519_wrong_total_sit_value_combinefoot_0_9000.csv')\n",
    "ans_hd_arr = np.array(ans['head'])\n",
    "ans_sho_arr = np.array(ans['shoulder'])\n",
    "ans_ft_arr = np.array(ans['foot'])"
   ]
  },
  {
   "cell_type": "code",
   "execution_count": 71,
   "id": "3d332618",
   "metadata": {},
   "outputs": [],
   "source": [
    "# split data\n",
    "hd_x_train, hd_x_test, hd_y_train, hd_y_test = train_test_split(img_combine_hd_arr, ans_hd_arr, test_size=0.1)\n",
    "sho_x_train, sho_x_test, sho_y_train, sho_y_test = train_test_split(img_combine_sho_arr, ans_sho_arr, test_size=0.1)\n",
    "ft_x_train, ft_x_test, ft_y_train, ft_y_test = train_test_split(img_combine_ft_arr, ans_ft_arr, test_size=0.1)                                                                "
   ]
  },
  {
   "cell_type": "code",
   "execution_count": 79,
   "id": "866a113d",
   "metadata": {},
   "outputs": [],
   "source": [
    "# create model \n",
    "layers = [\n",
    "    Conv2D(32, 3, padding=\"same\", activation=\"relu\", input_shape=(256, 256, 3)),\n",
    "    MaxPooling2D(),\n",
    "    Conv2D(64, 3, padding=\"same\", activation=\"relu\"),\n",
    "    MaxPooling2D(),\n",
    "    Conv2D(128, 3, padding=\"same\", activation=\"relu\"),\n",
    "    MaxPooling2D(),\n",
    "    Conv2D(256, 3, padding=\"same\", activation=\"relu\"),\n",
    "    MaxPooling2D(),\n",
    "    Conv2D(512, 3, padding=\"same\", activation=\"relu\"),\n",
    "    GlobalAveragePooling2D(),\n",
    "    Dense(1, activation=\"sigmoid\")\n",
    "]\n",
    "hd_model = Sequential(layers)\n",
    "# hd_model.summary()"
   ]
  },
  {
   "cell_type": "code",
   "execution_count": 82,
   "id": "2f95578d",
   "metadata": {},
   "outputs": [],
   "source": [
    "layers = [\n",
    "    Conv2D(32, 3, padding=\"same\", activation=\"relu\", input_shape=(256, 256, 3)),\n",
    "    MaxPooling2D(),\n",
    "    Conv2D(64, 3, padding=\"same\", activation=\"relu\"),\n",
    "    MaxPooling2D(),\n",
    "    Conv2D(128, 3, padding=\"same\", activation=\"relu\"),\n",
    "    MaxPooling2D(),\n",
    "    Conv2D(256, 3, padding=\"same\", activation=\"relu\"),\n",
    "    MaxPooling2D(),\n",
    "    Conv2D(512, 3, padding=\"same\", activation=\"relu\"),\n",
    "    GlobalAveragePooling2D(),\n",
    "    Dense(1, activation=\"sigmoid\")\n",
    "]\n",
    "sho_model = Sequential(layers)\n",
    "# sho_model.summary()"
   ]
  },
  {
   "cell_type": "code",
   "execution_count": 84,
   "id": "d2d06ffd",
   "metadata": {},
   "outputs": [],
   "source": [
    "layers = [\n",
    "    Conv2D(32, 3, padding=\"same\", activation=\"relu\", input_shape=(256, 256, 3)),\n",
    "    MaxPooling2D(),\n",
    "    Conv2D(64, 3, padding=\"same\", activation=\"relu\"),\n",
    "    MaxPooling2D(),\n",
    "    Conv2D(128, 3, padding=\"same\", activation=\"relu\"),\n",
    "    MaxPooling2D(),\n",
    "    Conv2D(256, 3, padding=\"same\", activation=\"relu\"),\n",
    "    MaxPooling2D(),\n",
    "    Conv2D(512, 3, padding=\"same\", activation=\"relu\"),\n",
    "    GlobalAveragePooling2D(),\n",
    "    Dense(1, activation=\"sigmoid\")\n",
    "]\n",
    "ft_model = Sequential(layers)\n",
    "# ft_model.summary()"
   ]
  },
  {
   "cell_type": "code",
   "execution_count": 89,
   "id": "bdb92e88",
   "metadata": {},
   "outputs": [],
   "source": [
    "# complile\n",
    "hd_model.compile(loss=BinaryCrossentropy(),\n",
    "       optimizer=\"adam\",\n",
    "       metrics=[\"accuracy\"])\n",
    "sho_model.compile(loss=BinaryCrossentropy(),\n",
    "       optimizer=\"adam\",\n",
    "       metrics=[\"accuracy\"])\n",
    "ft_model.compile(loss=BinaryCrossentropy(),\n",
    "       optimizer=\"adam\",\n",
    "       metrics=[\"accuracy\"])"
   ]
  },
  {
   "cell_type": "code",
   "execution_count": null,
   "id": "2c2117cd",
   "metadata": {},
   "outputs": [],
   "source": []
  }
 ],
 "metadata": {
  "kernelspec": {
   "display_name": "Python 3",
   "language": "python",
   "name": "python3"
  },
  "language_info": {
   "codemirror_mode": {
    "name": "ipython",
    "version": 3
   },
   "file_extension": ".py",
   "mimetype": "text/x-python",
   "name": "python",
   "nbconvert_exporter": "python",
   "pygments_lexer": "ipython3",
   "version": "3.7.0"
  }
 },
 "nbformat": 4,
 "nbformat_minor": 5
}
