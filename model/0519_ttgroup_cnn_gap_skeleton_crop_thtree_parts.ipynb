{
 "cells": [
  {
   "cell_type": "code",
   "execution_count": null,
   "metadata": {
    "id": "nm8NRoBhlB9z"
   },
   "outputs": [],
   "source": [
    "from google.colab import drive\n",
    "drive.mount('/content/drive')"
   ]
  },
  {
   "cell_type": "markdown",
   "metadata": {
    "id": "4FC8t-ykQ5yX"
   },
   "source": [
    "# **資料預處理**"
   ]
  },
  {
   "cell_type": "code",
   "execution_count": null,
   "metadata": {
    "id": "dA6VTyHHVbgW"
   },
   "outputs": [],
   "source": [
    "from zipfile import ZipFile\n",
    "path = \"/content/drive/MyDrive/ttgroup/0_9000/0519_crop_hd_save_pics.zip\"\n",
    "f = ZipFile(path)\n",
    "# f.extractall() 小括號是直接解壓縮在同一層\n",
    "f.extractall()"
   ]
  },
  {
   "cell_type": "code",
   "execution_count": null,
   "metadata": {
    "id": "jtQBLTBVturv"
   },
   "outputs": [],
   "source": [
    "from zipfile import ZipFile\n",
    "path = \"/content/drive/MyDrive/ttgroup/0_9000/0519_crop_sho_save_pics.zip\"\n",
    "f = ZipFile(path)\n",
    "# f.extractall() 小括號是直接解壓縮在同一層\n",
    "f.extractall()"
   ]
  },
  {
   "cell_type": "code",
   "execution_count": null,
   "metadata": {
    "id": "IiXGiLU2VBcH"
   },
   "outputs": [],
   "source": [
    "from zipfile import ZipFile\n",
    "path = \"/content/drive/MyDrive/ttgroup/0_9000/0519_crop_ft_save_pics.zip\"\n",
    "f = ZipFile(path)\n",
    "# f.extractall() 小括號是直接解壓縮在同一層\n",
    "f.extractall()"
   ]
  },
  {
   "cell_type": "code",
   "execution_count": null,
   "metadata": {
    "id": "MvY_715suucv"
   },
   "outputs": [],
   "source": [
    "# 製作igm_name的list\n",
    "import glob\n",
    "import pandas as pd\n",
    "import numpy as np\n",
    "\n",
    "# sorted() : 排序所有可跌代對象\n",
    "# split() : 分割()\n",
    "fn_dic = {\"img_name\":[]}\n",
    "paths = sorted(glob.glob(\"0519_crop_hd_save_pics/*\"))\n",
    "for path in paths:\n",
    "  fn = path.split(\"/\")[-1].split(\".\")[0]\n",
    "  fn_dic[\"img_name\"].append(fn)\n",
    "fn_dic_df = pd.DataFrame(fn_dic)\n",
    "fn_dic_df"
   ]
  },
  {
   "cell_type": "code",
   "execution_count": null,
   "metadata": {
    "id": "zgi4440OWv_H"
   },
   "outputs": [],
   "source": [
    "# img_combine_hd_arr 訓練資料DataFarme (x_train, x_test)\n",
    "from PIL import Image\n",
    "fn_list = fn_dic[\"img_name\"]\n",
    "\n",
    "# create img_combine_hd_arr\n",
    "img_hd_arr_list = []\n",
    "for fn in fn_list:\n",
    "  img = Image.open(\"/content/0519_crop_hd_save_pics/\" + fn + \".jpg\").convert(\"RGB\")\n",
    "  img = img.resize((256, 256))\n",
    "  globals()[\"img_\"+ fn] = img\n",
    "  globals()[\"img_\"+ fn + \"_arr\"] = np.array(globals()[\"img_\"+fn])\n",
    "  img_hd_arr_list.append(globals()[\"img_\"+ fn + \"_arr\"])\n",
    "  img.close()\n",
    "# img_arr_list = ()\n",
    "img_combine_hd_arr = np.array(img_hd_arr_list)\n",
    "# img_combine_hd_arr.shape\n",
    "\n",
    "# img_combine_sho_arr 訓練資料DataFarme (x_train, x_test)\n",
    "img_sho_arr_list = []\n",
    "for fn in fn_list:\n",
    "  img = Image.open(\"/content/0519_crop_sho_save_pics/\" + fn + \".jpg\").convert(\"RGB\")\n",
    "  img = img.resize((256, 256))\n",
    "  globals()[\"img_\"+ fn] = img\n",
    "  globals()[\"img_\"+ fn + \"_arr\"] = np.array(globals()[\"img_\"+fn])\n",
    "  img_sho_arr_list.append(globals()[\"img_\"+ fn + \"_arr\"])\n",
    "  img.close()\n",
    "# img_arr_list = ()\n",
    "img_combine_sho_arr = np.array(img_sho_arr_list)\n",
    "# img_combine_sho_arr.shape\n",
    "\n",
    "# img_combine_ft_arr 訓練資料DataFarme (x_train, x_test)\n",
    "img_ft_arr_list = []\n",
    "for fn in fn_list:\n",
    "  img = Image.open(\"/content/0519_crop_ft_save_pics/\" + fn + \".jpg\").convert(\"RGB\")\n",
    "  img = img.resize((256, 256))\n",
    "  globals()[\"img_\"+ fn] = img\n",
    "  globals()[\"img_\"+ fn + \"_arr\"] = np.array(globals()[\"img_\"+fn])\n",
    "  img_ft_arr_list.append(globals()[\"img_\"+ fn + \"_arr\"])\n",
    "  img.close()\n",
    "# img_arr_list = ()\n",
    "img_combine_ft_arr = np.array(img_ft_arr_list)\n",
    "img_combine_ft_arr.shape"
   ]
  },
  {
   "cell_type": "code",
   "execution_count": null,
   "metadata": {
    "id": "DcKAKqF3R8QV"
   },
   "outputs": [],
   "source": [
    "# ans_df  驗證資料DataFrame (y_train, y_test)\n",
    "base = \"/content/drive/MyDrive/ttgroup/0_9000/0519_wrong_total_sit_value_combinefoot_0_9000.csv\"\n",
    "csv = pd.read_csv(base, sep=\",\")\n",
    "ans_df = pd.DataFrame(csv)\n",
    "ans_df = ans_df.drop([\"img_name\"], axis=1)\n",
    "ans_arr = np.array(ans_df)\n",
    "\n",
    "# ans_hd_df\n",
    "ans_hd_df = pd.DataFrame(ans_df[\"head\"])\n",
    "\n",
    "# ans_sho_df\n",
    "ans_sho_df = pd.DataFrame(ans_df[\"shoulder\"])\n",
    "ans_sho_df\n",
    "\n",
    "# ans_ft_df\n",
    "ans_ft_df = pd.DataFrame(ans_df[\"foot\"])\n",
    "ans_ft_df\n"
   ]
  },
  {
   "cell_type": "markdown",
   "metadata": {
    "id": "BD1y3jYNNBnc"
   },
   "source": [
    "# Data_preprocess"
   ]
  },
  {
   "cell_type": "code",
   "execution_count": null,
   "metadata": {
    "id": "Ttb_skDoV5_F"
   },
   "outputs": [],
   "source": [
    "# 切割資料_hd x_train, x_test, y_train, y_test\n",
    "from sklearn.model_selection import train_test_split\n",
    "import numpy as np\n",
    "hd_x_train, hd_x_test, hd_y_train, hd_y_test = train_test_split(img_combine_hd_arr,\n",
    "                             np.array(ans_hd_df),\n",
    "                             test_size=0.1)\n",
    "\n",
    "# 切割資料_sho x_train, x_test, y_train, y_test\n",
    "from sklearn.model_selection import train_test_split\n",
    "import numpy as np\n",
    "sho_x_train, sho_x_test, sho_y_train, sho_y_test = train_test_split(img_combine_sho_arr,\n",
    "                             np.array(ans_sho_df),\n",
    "                             test_size=0.1)\n",
    "\n",
    "# 切割資料_ft x_train, x_test, y_train, y_test\n",
    "from sklearn.model_selection import train_test_split\n",
    "import numpy as np\n",
    "ft_x_train, ft_x_test, ft_y_train, ft_y_test = train_test_split(img_combine_ft_arr,\n",
    "                             np.array(ans_ft_df),\n",
    "                             test_size=0.1)"
   ]
  },
  {
   "cell_type": "code",
   "execution_count": null,
   "metadata": {
    "colab": {
     "base_uri": "https://localhost:8080/"
    },
    "id": "CwNPJTHgYYUD",
    "outputId": "cfb068c5-12d8-4c99-8fe8-e9ea25d7fdd3"
   },
   "outputs": [
    {
     "name": "stdout",
     "output_type": "stream",
     "text": [
      "(526, 256, 256, 3)\n",
      "(526, 1)\n",
      "(59, 256, 256, 3)\n",
      "(59, 1)\n",
      "---------------\n",
      "(526, 256, 256, 3)\n",
      "(526, 1)\n",
      "(59, 256, 256, 3)\n",
      "(59, 1)\n",
      "---------------\n",
      "(526, 256, 256, 3)\n",
      "(526, 1)\n",
      "(59, 256, 256, 3)\n",
      "(59, 1)\n"
     ]
    }
   ],
   "source": [
    "print(hd_x_train.shape)\n",
    "print(hd_y_train.shape)\n",
    "print(hd_x_test.shape)\n",
    "print(hd_y_test.shape)\n",
    "print(\"-\" * 15)\n",
    "print(sho_x_train.shape)\n",
    "print(sho_y_train.shape)\n",
    "print(sho_x_test.shape)\n",
    "print(sho_y_test.shape)\n",
    "print(\"-\" * 15)\n",
    "print(ft_x_train.shape)\n",
    "print(ft_y_train.shape)\n",
    "print(ft_x_test.shape)\n",
    "print(ft_y_test.shape)"
   ]
  },
  {
   "cell_type": "code",
   "execution_count": null,
   "metadata": {
    "colab": {
     "base_uri": "https://localhost:8080/",
     "height": 250
    },
    "id": "8ly4gEHoU9fT",
    "outputId": "243bf4ee-399b-4383-b8c9-797ed704269c"
   },
   "outputs": [
    {
     "name": "stdout",
     "output_type": "stream",
     "text": [
      "160\n",
      "[1, 1, 0]\n"
     ]
    },
    {
     "data": {
      "image/png": "[encoded data removed]",
      "text/plain": [
       "<Figure size 720x720 with 3 Axes>"
      ]
     },
     "metadata": {
      "needs_background": "light",
      "tags": []
     },
     "output_type": "display_data"
    }
   ],
   "source": [
    "# 測試圖片和標籤 test_rd_pic_label\n",
    "import random\n",
    "import matplotlib.pyplot as plt\n",
    "idx = random.randint(0, 260)\n",
    "\n",
    "# 一次plot多個部位方式: 但因為三個部位tran_test_split 資料不一樣,所以plot的圖片也會不同張\n",
    "print(idx)\n",
    "label_list = [hd_y_train[idx][0], sho_y_train[idx][0], ft_y_train[idx][0]]\n",
    "img_show_cb_arr = np.array([hd_x_train[idx], sho_x_train[idx], ft_x_train[idx]])\n",
    "print(label_list)\n",
    "# Plot_pics\n",
    "plt.figure(figsize=(10,10))\n",
    "for i in range(len(img_show_cb_arr)):\n",
    "  plt.subplot(1,3,i+1)\n",
    "  plt.imshow(img_show_cb_arr[i])"
   ]
  },
  {
   "cell_type": "markdown",
   "metadata": {
    "id": "JnDLFRIPTFrN"
   },
   "source": [
    "# Create Model"
   ]
  },
  {
   "cell_type": "code",
   "execution_count": null,
   "metadata": {
    "colab": {
     "base_uri": "https://localhost:8080/"
    },
    "id": "Ry2YK-f1Yu5W",
    "outputId": "13be35b5-0491-4f56-eceb-01c401a0f0b2"
   },
   "outputs": [
    {
     "name": "stdout",
     "output_type": "stream",
     "text": [
      "Model: \"sequential\"\n",
      "_________________________________________________________________\n",
      "Layer (type)                 Output Shape              Param #   \n",
      "=================================================================\n",
      "conv2d (Conv2D)              (None, 256, 256, 32)      896       \n",
      "_________________________________________________________________\n",
      "max_pooling2d (MaxPooling2D) (None, 128, 128, 32)      0         \n",
      "_________________________________________________________________\n",
      "conv2d_1 (Conv2D)            (None, 128, 128, 64)      18496     \n",
      "_________________________________________________________________\n",
      "max_pooling2d_1 (MaxPooling2 (None, 64, 64, 64)        0         \n",
      "_________________________________________________________________\n",
      "conv2d_2 (Conv2D)            (None, 64, 64, 128)       73856     \n",
      "_________________________________________________________________\n",
      "max_pooling2d_2 (MaxPooling2 (None, 32, 32, 128)       0         \n",
      "_________________________________________________________________\n",
      "conv2d_3 (Conv2D)            (None, 32, 32, 256)       295168    \n",
      "_________________________________________________________________\n",
      "max_pooling2d_3 (MaxPooling2 (None, 16, 16, 256)       0         \n",
      "_________________________________________________________________\n",
      "conv2d_4 (Conv2D)            (None, 16, 16, 512)       1180160   \n",
      "_________________________________________________________________\n",
      "global_average_pooling2d (Gl (None, 512)               0         \n",
      "_________________________________________________________________\n",
      "dense (Dense)                (None, 1)                 513       \n",
      "=================================================================\n",
      "Total params: 1,569,089\n",
      "Trainable params: 1,569,089\n",
      "Non-trainable params: 0\n",
      "_________________________________________________________________\n"
     ]
    }
   ],
   "source": [
    "# create hd_model\n",
    "from tensorflow.keras.models import Sequential\n",
    "from tensorflow.keras.layers import Conv2D, MaxPooling2D\n",
    "from tensorflow.keras.layers import Dense, Dropout, GlobalAveragePooling2D\n",
    "layers = [\n",
    "    Conv2D(32, 3, padding=\"same\", activation=\"relu\", input_shape=(256, 256, 3)),\n",
    "    MaxPooling2D(),\n",
    "    Conv2D(64, 3, padding=\"same\", activation=\"relu\"),\n",
    "    MaxPooling2D(),\n",
    "    Conv2D(128, 3, padding=\"same\", activation=\"relu\"),\n",
    "    MaxPooling2D(),\n",
    "    Conv2D(256, 3, padding=\"same\", activation=\"relu\"),\n",
    "    MaxPooling2D(),\n",
    "    Conv2D(512, 3, padding=\"same\", activation=\"relu\"),\n",
    "    GlobalAveragePooling2D(),\n",
    "    Dense(1, activation=\"sigmoid\")\n",
    "]\n",
    "hd_model = Sequential(layers)\n",
    "hd_model.summary()"
   ]
  },
  {
   "cell_type": "code",
   "execution_count": null,
   "metadata": {
    "colab": {
     "base_uri": "https://localhost:8080/"
    },
    "id": "bNDvdTBTTOYS",
    "outputId": "3afe142a-22da-4f11-ccc7-af58a06f5e48"
   },
   "outputs": [
    {
     "name": "stdout",
     "output_type": "stream",
     "text": [
      "Model: \"sequential_1\"\n",
      "_________________________________________________________________\n",
      "Layer (type)                 Output Shape              Param #   \n",
      "=================================================================\n",
      "conv2d_5 (Conv2D)            (None, 256, 256, 32)      896       \n",
      "_________________________________________________________________\n",
      "max_pooling2d_4 (MaxPooling2 (None, 128, 128, 32)      0         \n",
      "_________________________________________________________________\n",
      "conv2d_6 (Conv2D)            (None, 128, 128, 64)      18496     \n",
      "_________________________________________________________________\n",
      "max_pooling2d_5 (MaxPooling2 (None, 64, 64, 64)        0         \n",
      "_________________________________________________________________\n",
      "conv2d_7 (Conv2D)            (None, 64, 64, 128)       73856     \n",
      "_________________________________________________________________\n",
      "max_pooling2d_6 (MaxPooling2 (None, 32, 32, 128)       0         \n",
      "_________________________________________________________________\n",
      "conv2d_8 (Conv2D)            (None, 32, 32, 256)       295168    \n",
      "_________________________________________________________________\n",
      "max_pooling2d_7 (MaxPooling2 (None, 16, 16, 256)       0         \n",
      "_________________________________________________________________\n",
      "conv2d_9 (Conv2D)            (None, 16, 16, 512)       1180160   \n",
      "_________________________________________________________________\n",
      "global_average_pooling2d_1 ( (None, 512)               0         \n",
      "_________________________________________________________________\n",
      "dense_1 (Dense)              (None, 1)                 513       \n",
      "=================================================================\n",
      "Total params: 1,569,089\n",
      "Trainable params: 1,569,089\n",
      "Non-trainable params: 0\n",
      "_________________________________________________________________\n"
     ]
    }
   ],
   "source": [
    "# create sho_model\n",
    "\n",
    "layers = [\n",
    "    Conv2D(32, 3, padding=\"same\", activation=\"relu\", input_shape=(256, 256, 3)),\n",
    "    MaxPooling2D(),\n",
    "    Conv2D(64, 3, padding=\"same\", activation=\"relu\"),\n",
    "    MaxPooling2D(),\n",
    "    Conv2D(128, 3, padding=\"same\", activation=\"relu\"),\n",
    "    MaxPooling2D(),\n",
    "    Conv2D(256, 3, padding=\"same\", activation=\"relu\"),\n",
    "    MaxPooling2D(),\n",
    "    Conv2D(512, 3, padding=\"same\", activation=\"relu\"),\n",
    "    GlobalAveragePooling2D(),\n",
    "    Dense(1, activation=\"sigmoid\")\n",
    "]\n",
    "sho_model = Sequential(layers)\n",
    "sho_model.summary()"
   ]
  },
  {
   "cell_type": "code",
   "execution_count": null,
   "metadata": {
    "colab": {
     "base_uri": "https://localhost:8080/"
    },
    "id": "TZ5Po3FRbkOl",
    "outputId": "ce897b21-be4f-4690-f121-0c8c9975ad5d"
   },
   "outputs": [
    {
     "name": "stdout",
     "output_type": "stream",
     "text": [
      "Model: \"sequential_2\"\n",
      "_________________________________________________________________\n",
      "Layer (type)                 Output Shape              Param #   \n",
      "=================================================================\n",
      "conv2d_10 (Conv2D)           (None, 256, 256, 32)      896       \n",
      "_________________________________________________________________\n",
      "max_pooling2d_8 (MaxPooling2 (None, 128, 128, 32)      0         \n",
      "_________________________________________________________________\n",
      "conv2d_11 (Conv2D)           (None, 128, 128, 64)      18496     \n",
      "_________________________________________________________________\n",
      "max_pooling2d_9 (MaxPooling2 (None, 64, 64, 64)        0         \n",
      "_________________________________________________________________\n",
      "conv2d_12 (Conv2D)           (None, 64, 64, 128)       73856     \n",
      "_________________________________________________________________\n",
      "max_pooling2d_10 (MaxPooling (None, 32, 32, 128)       0         \n",
      "_________________________________________________________________\n",
      "conv2d_13 (Conv2D)           (None, 32, 32, 256)       295168    \n",
      "_________________________________________________________________\n",
      "max_pooling2d_11 (MaxPooling (None, 16, 16, 256)       0         \n",
      "_________________________________________________________________\n",
      "conv2d_14 (Conv2D)           (None, 16, 16, 512)       1180160   \n",
      "_________________________________________________________________\n",
      "global_average_pooling2d_2 ( (None, 512)               0         \n",
      "_________________________________________________________________\n",
      "dense_2 (Dense)              (None, 1)                 513       \n",
      "=================================================================\n",
      "Total params: 1,569,089\n",
      "Trainable params: 1,569,089\n",
      "Non-trainable params: 0\n",
      "_________________________________________________________________\n"
     ]
    }
   ],
   "source": [
    "# create ft_model\n",
    "\n",
    "layers = [\n",
    "    Conv2D(32, 3, padding=\"same\", activation=\"relu\", input_shape=(256, 256, 3)),\n",
    "    MaxPooling2D(),\n",
    "    Conv2D(64, 3, padding=\"same\", activation=\"relu\"),\n",
    "    MaxPooling2D(),\n",
    "    Conv2D(128, 3, padding=\"same\", activation=\"relu\"),\n",
    "    MaxPooling2D(),\n",
    "    Conv2D(256, 3, padding=\"same\", activation=\"relu\"),\n",
    "    MaxPooling2D(),\n",
    "    Conv2D(512, 3, padding=\"same\", activation=\"relu\"),\n",
    "    GlobalAveragePooling2D(),\n",
    "    Dense(1, activation=\"sigmoid\")\n",
    "]\n",
    "ft_model = Sequential(layers)\n",
    "ft_model.summary()"
   ]
  },
  {
   "cell_type": "markdown",
   "metadata": {
    "id": "pwY-MoQ0L1yt"
   },
   "source": []
  },
  {
   "cell_type": "code",
   "execution_count": null,
   "metadata": {
    "id": "7F0Y3S8PESx-"
   },
   "outputs": [],
   "source": [
    "# create hd_loss\n",
    "from tensorflow.keras.losses import BinaryCrossentropy\n",
    "hd_model.compile(loss=BinaryCrossentropy(),\n",
    "       optimizer=\"adam\",\n",
    "       metrics=[\"accuracy\"])\n",
    "\n",
    "# create sho_loss\n",
    "sho_model.compile(loss=BinaryCrossentropy(),\n",
    "       optimizer=\"adam\",\n",
    "       metrics=[\"accuracy\"])\n",
    "\n",
    "# create ft_loss\n",
    "ft_model.compile(loss=BinaryCrossentropy(),\n",
    "       optimizer=\"adam\",\n",
    "       metrics=[\"accuracy\"])"
   ]
  },
  {
   "cell_type": "code",
   "execution_count": null,
   "metadata": {
    "id": "_oj4f-HeEZR2"
   },
   "outputs": [],
   "source": [
    "# hd_norm\n",
    "hd_x_train_norm = hd_x_train / 255\n",
    "hd_x_test_norm = hd_x_test / 255\n",
    "\n",
    "# sho_norm\n",
    "sho_x_train_norm = sho_x_train / 255\n",
    "sho_x_test_norm = sho_x_test / 255\n",
    "\n",
    "# ft_norm\n",
    "ft_x_train_norm = ft_x_train / 255\n",
    "ft_x_test_norm = ft_x_test / 255"
   ]
  },
  {
   "cell_type": "code",
   "execution_count": null,
   "metadata": {
    "colab": {
     "base_uri": "https://localhost:8080/"
    },
    "id": "kIiKo2BPEbze",
    "outputId": "edd026b9-2c2c-4a64-cf86-0537b2ea7a11"
   },
   "outputs": [
    {
     "name": "stdout",
     "output_type": "stream",
     "text": [
      "Epoch 1/50\n",
      "24/24 - 1s - loss: 0.2908 - accuracy: 0.8668 - val_loss: 0.2497 - val_accuracy: 0.8868\n",
      "Epoch 2/50\n",
      "24/24 - 1s - loss: 0.2752 - accuracy: 0.8795 - val_loss: 0.2471 - val_accuracy: 0.8679\n",
      "Epoch 3/50\n",
      "24/24 - 1s - loss: 0.2830 - accuracy: 0.8774 - val_loss: 0.3050 - val_accuracy: 0.8491\n",
      "Epoch 4/50\n",
      "24/24 - 1s - loss: 0.3363 - accuracy: 0.8351 - val_loss: 0.2772 - val_accuracy: 0.8113\n",
      "Epoch 5/50\n",
      "24/24 - 1s - loss: 0.2802 - accuracy: 0.8584 - val_loss: 0.2488 - val_accuracy: 0.8868\n",
      "Epoch 6/50\n",
      "24/24 - 1s - loss: 0.2631 - accuracy: 0.8795 - val_loss: 0.2747 - val_accuracy: 0.8679\n",
      "Epoch 7/50\n",
      "24/24 - 1s - loss: 0.2458 - accuracy: 0.8922 - val_loss: 0.2416 - val_accuracy: 0.8491\n",
      "Epoch 8/50\n",
      "24/24 - 1s - loss: 0.3159 - accuracy: 0.8562 - val_loss: 0.3109 - val_accuracy: 0.8113\n",
      "Epoch 9/50\n",
      "24/24 - 1s - loss: 0.3170 - accuracy: 0.8372 - val_loss: 0.3034 - val_accuracy: 0.8679\n",
      "Epoch 10/50\n",
      "24/24 - 1s - loss: 0.2549 - accuracy: 0.9070 - val_loss: 0.3069 - val_accuracy: 0.8302\n",
      "Epoch 11/50\n",
      "24/24 - 1s - loss: 0.2371 - accuracy: 0.8879 - val_loss: 0.2880 - val_accuracy: 0.8679\n",
      "Epoch 12/50\n",
      "24/24 - 1s - loss: 0.2282 - accuracy: 0.9049 - val_loss: 0.2499 - val_accuracy: 0.8679\n"
     ]
    },
    {
     "data": {
      "text/plain": [
       "<tensorflow.python.keras.callbacks.History at 0x7efbe8aba910>"
      ]
     },
     "execution_count": 24,
     "metadata": {
      "tags": []
     },
     "output_type": "execute_result"
    }
   ],
   "source": [
    "# hd_fit\n",
    "from tensorflow.keras.callbacks import EarlyStopping, ModelCheckpoint\n",
    "callbacks = [\n",
    "   EarlyStopping(patience=5, restore_best_weights=True),\n",
    "   ModelCheckpoint(\"crop_hd_cnn.h5\", save_best_only=True) \n",
    "]\n",
    "\n",
    "hd_model.fit(hd_x_train_norm,\n",
    "     hd_y_train,\n",
    "     batch_size=20,\n",
    "     epochs=50,\n",
    "     validation_split=0.1,\n",
    "     verbose=2,\n",
    "     callbacks=callbacks)"
   ]
  },
  {
   "cell_type": "code",
   "execution_count": null,
   "metadata": {
    "colab": {
     "base_uri": "https://localhost:8080/"
    },
    "id": "oBE23xZuwrCO",
    "outputId": "454f7b2a-fce9-4d8c-edc3-83810b64cbc8"
   },
   "outputs": [
    {
     "name": "stdout",
     "output_type": "stream",
     "text": [
      "2/2 [==============================] - 2s 884ms/step - loss: 0.3386 - accuracy: 0.7966\n"
     ]
    },
    {
     "data": {
      "text/plain": [
       "[0.3385546803474426, 0.7966101765632629]"
      ]
     },
     "execution_count": 17,
     "metadata": {
      "tags": []
     },
     "output_type": "execute_result"
    }
   ],
   "source": [
    "hd_model.evaluate(hd_x_test_norm, hd_y_test)"
   ]
  },
  {
   "cell_type": "code",
   "execution_count": null,
   "metadata": {
    "colab": {
     "base_uri": "https://localhost:8080/"
    },
    "id": "FY-6EbkoRVRU",
    "outputId": "0a21aa80-ad66-45e9-8785-d048fa672fe3"
   },
   "outputs": [
    {
     "name": "stdout",
     "output_type": "stream",
     "text": [
      "Epoch 1/50\n",
      "24/24 - 2s - loss: 0.6621 - accuracy: 0.7188 - val_loss: 0.6168 - val_accuracy: 0.8113\n",
      "Epoch 2/50\n",
      "24/24 - 1s - loss: 0.5871 - accuracy: 0.7442 - val_loss: 0.5218 - val_accuracy: 0.8113\n",
      "Epoch 3/50\n",
      "24/24 - 1s - loss: 0.5782 - accuracy: 0.7442 - val_loss: 0.4879 - val_accuracy: 0.8113\n",
      "Epoch 4/50\n",
      "24/24 - 1s - loss: 0.5697 - accuracy: 0.7442 - val_loss: 0.4864 - val_accuracy: 0.8113\n",
      "Epoch 5/50\n",
      "24/24 - 1s - loss: 0.5611 - accuracy: 0.7442 - val_loss: 0.5267 - val_accuracy: 0.8113\n",
      "Epoch 6/50\n",
      "24/24 - 1s - loss: 0.5580 - accuracy: 0.7442 - val_loss: 0.4885 - val_accuracy: 0.8113\n",
      "Epoch 7/50\n",
      "24/24 - 1s - loss: 0.5582 - accuracy: 0.7442 - val_loss: 0.4355 - val_accuracy: 0.8113\n",
      "Epoch 8/50\n",
      "24/24 - 1s - loss: 0.5147 - accuracy: 0.7442 - val_loss: 0.3661 - val_accuracy: 0.8113\n",
      "Epoch 9/50\n",
      "24/24 - 1s - loss: 0.5170 - accuracy: 0.7632 - val_loss: 0.5531 - val_accuracy: 0.8868\n",
      "Epoch 10/50\n",
      "24/24 - 1s - loss: 0.4909 - accuracy: 0.7590 - val_loss: 0.3134 - val_accuracy: 0.8491\n",
      "Epoch 11/50\n",
      "24/24 - 1s - loss: 0.3765 - accuracy: 0.8182 - val_loss: 0.2963 - val_accuracy: 0.8491\n",
      "Epoch 12/50\n",
      "24/24 - 1s - loss: 0.3631 - accuracy: 0.8562 - val_loss: 0.2039 - val_accuracy: 0.9245\n",
      "Epoch 13/50\n",
      "24/24 - 1s - loss: 0.3056 - accuracy: 0.8520 - val_loss: 0.1411 - val_accuracy: 0.9811\n",
      "Epoch 14/50\n",
      "24/24 - 1s - loss: 0.3501 - accuracy: 0.8478 - val_loss: 0.2445 - val_accuracy: 0.9434\n",
      "Epoch 15/50\n",
      "24/24 - 1s - loss: 0.3502 - accuracy: 0.8351 - val_loss: 0.1957 - val_accuracy: 0.9245\n",
      "Epoch 16/50\n",
      "24/24 - 1s - loss: 0.2760 - accuracy: 0.8668 - val_loss: 0.2494 - val_accuracy: 0.8679\n",
      "Epoch 17/50\n",
      "24/24 - 1s - loss: 0.2695 - accuracy: 0.8795 - val_loss: 0.2604 - val_accuracy: 0.8679\n",
      "Epoch 18/50\n",
      "24/24 - 1s - loss: 0.2760 - accuracy: 0.8774 - val_loss: 0.1084 - val_accuracy: 0.9811\n",
      "Epoch 19/50\n",
      "24/24 - 1s - loss: 0.2777 - accuracy: 0.8943 - val_loss: 0.1198 - val_accuracy: 0.9623\n",
      "Epoch 20/50\n",
      "24/24 - 1s - loss: 0.2774 - accuracy: 0.8837 - val_loss: 0.1243 - val_accuracy: 0.9623\n",
      "Epoch 21/50\n",
      "24/24 - 1s - loss: 0.2562 - accuracy: 0.8858 - val_loss: 0.1242 - val_accuracy: 0.9434\n",
      "Epoch 22/50\n",
      "24/24 - 1s - loss: 0.2441 - accuracy: 0.8774 - val_loss: 0.1315 - val_accuracy: 0.9434\n",
      "Epoch 23/50\n",
      "24/24 - 1s - loss: 0.2362 - accuracy: 0.8985 - val_loss: 0.0967 - val_accuracy: 0.9811\n",
      "Epoch 24/50\n",
      "24/24 - 1s - loss: 0.2414 - accuracy: 0.8922 - val_loss: 0.1182 - val_accuracy: 0.9434\n",
      "Epoch 25/50\n",
      "24/24 - 1s - loss: 0.2181 - accuracy: 0.9070 - val_loss: 0.1154 - val_accuracy: 0.9434\n",
      "Epoch 26/50\n",
      "24/24 - 1s - loss: 0.2460 - accuracy: 0.9006 - val_loss: 0.3294 - val_accuracy: 0.8491\n",
      "Epoch 27/50\n",
      "24/24 - 1s - loss: 0.3061 - accuracy: 0.8668 - val_loss: 0.1257 - val_accuracy: 0.9434\n",
      "Epoch 28/50\n",
      "24/24 - 1s - loss: 0.2251 - accuracy: 0.8922 - val_loss: 0.1170 - val_accuracy: 0.9434\n"
     ]
    },
    {
     "data": {
      "text/plain": [
       "<tensorflow.python.keras.callbacks.History at 0x7efbe85de250>"
      ]
     },
     "execution_count": 18,
     "metadata": {
      "tags": []
     },
     "output_type": "execute_result"
    }
   ],
   "source": [
    "# sho_fit\n",
    "callbacks = [\n",
    "   EarlyStopping(patience=5, restore_best_weights=True),\n",
    "   ModelCheckpoint(\"crop_sho_cnn.h5\", save_best_only=True) \n",
    "]\n",
    "\n",
    "sho_model.fit(sho_x_train_norm,\n",
    "     sho_y_train,\n",
    "     batch_size=20,\n",
    "     epochs=50,\n",
    "     validation_split=0.1,\n",
    "     verbose=2,\n",
    "     callbacks=callbacks)"
   ]
  },
  {
   "cell_type": "code",
   "execution_count": null,
   "metadata": {
    "colab": {
     "base_uri": "https://localhost:8080/"
    },
    "id": "1aiApY58RpGX",
    "outputId": "4cb942fc-dcf5-4d02-af5d-8b92e52d497a"
   },
   "outputs": [
    {
     "name": "stdout",
     "output_type": "stream",
     "text": [
      "2/2 [==============================] - 0s 22ms/step - loss: 0.2027 - accuracy: 0.8983\n"
     ]
    },
    {
     "data": {
      "text/plain": [
       "[0.20274870097637177, 0.8983050584793091]"
      ]
     },
     "execution_count": 19,
     "metadata": {
      "tags": []
     },
     "output_type": "execute_result"
    }
   ],
   "source": [
    "# sho_evaluate\n",
    "sho_model.evaluate(sho_x_test_norm, sho_y_test)"
   ]
  },
  {
   "cell_type": "code",
   "execution_count": null,
   "metadata": {
    "colab": {
     "base_uri": "https://localhost:8080/"
    },
    "id": "_5aMg_edb95Z",
    "outputId": "7439e44c-900b-4ead-8f6d-8352c1956000"
   },
   "outputs": [
    {
     "name": "stdout",
     "output_type": "stream",
     "text": [
      "Epoch 1/50\n",
      "24/24 - 1s - loss: 0.3127 - accuracy: 0.8879 - val_loss: 0.3089 - val_accuracy: 0.9245\n",
      "Epoch 2/50\n",
      "24/24 - 1s - loss: 0.3125 - accuracy: 0.8774 - val_loss: 0.3024 - val_accuracy: 0.9057\n",
      "Epoch 3/50\n",
      "24/24 - 1s - loss: 0.3308 - accuracy: 0.8943 - val_loss: 0.3316 - val_accuracy: 0.9245\n",
      "Epoch 4/50\n",
      "24/24 - 1s - loss: 0.3192 - accuracy: 0.8732 - val_loss: 0.3137 - val_accuracy: 0.8868\n",
      "Epoch 5/50\n",
      "24/24 - 1s - loss: 0.3682 - accuracy: 0.8626 - val_loss: 0.2924 - val_accuracy: 0.9245\n",
      "Epoch 6/50\n",
      "24/24 - 1s - loss: 0.3035 - accuracy: 0.8858 - val_loss: 0.3124 - val_accuracy: 0.9245\n",
      "Epoch 7/50\n",
      "24/24 - 1s - loss: 0.3043 - accuracy: 0.8795 - val_loss: 0.2980 - val_accuracy: 0.9245\n",
      "Epoch 8/50\n",
      "24/24 - 1s - loss: 0.2969 - accuracy: 0.8837 - val_loss: 0.3377 - val_accuracy: 0.9057\n",
      "Epoch 9/50\n",
      "24/24 - 1s - loss: 0.3324 - accuracy: 0.8668 - val_loss: 0.2966 - val_accuracy: 0.9434\n",
      "Epoch 10/50\n",
      "24/24 - 1s - loss: 0.2923 - accuracy: 0.8901 - val_loss: 0.3426 - val_accuracy: 0.8868\n"
     ]
    },
    {
     "data": {
      "text/plain": [
       "<tensorflow.python.keras.callbacks.History at 0x7efbe8ae51d0>"
      ]
     },
     "execution_count": 23,
     "metadata": {
      "tags": []
     },
     "output_type": "execute_result"
    }
   ],
   "source": [
    "# ft_fit\n",
    "callbacks = [\n",
    "   EarlyStopping(patience=5, restore_best_weights=True),\n",
    "   ModelCheckpoint(\"crop_ft_cnn.h5\", save_best_only=True) \n",
    "]\n",
    "\n",
    "ft_model.fit(ft_x_train_norm,\n",
    "     ft_y_train,\n",
    "     batch_size=20,\n",
    "     epochs=50,\n",
    "     validation_split=0.1,\n",
    "     verbose=2,\n",
    "     callbacks=callbacks)"
   ]
  },
  {
   "cell_type": "code",
   "execution_count": null,
   "metadata": {
    "colab": {
     "base_uri": "https://localhost:8080/"
    },
    "id": "4X3W6NL5cA_s",
    "outputId": "2fc879fd-1bbe-423a-8ab6-1fef636e1279"
   },
   "outputs": [
    {
     "name": "stdout",
     "output_type": "stream",
     "text": [
      "2/2 [==============================] - 0s 21ms/step - loss: 0.3357 - accuracy: 0.8644\n"
     ]
    },
    {
     "data": {
      "text/plain": [
       "[0.33566784858703613, 0.8644067645072937]"
      ]
     },
     "execution_count": 21,
     "metadata": {
      "tags": []
     },
     "output_type": "execute_result"
    }
   ],
   "source": [
    "ft_model.evaluate(ft_x_test_norm, ft_y_test)"
   ]
  },
  {
   "cell_type": "code",
   "execution_count": null,
   "metadata": {
    "colab": {
     "base_uri": "https://localhost:8080/",
     "height": 376
    },
    "id": "5x9KJZ0syo_d",
    "outputId": "92cb5fa5-d33e-440b-f75b-34d77e2d91fd"
   },
   "outputs": [
    {
     "ename": "FileNotFoundError",
     "evalue": "ignored",
     "output_type": "error",
     "traceback": [
      "\u001b[0;31m---------------------------------------------------------------------------\u001b[0m",
      "\u001b[0;31mFileNotFoundError\u001b[0m                         Traceback (most recent call last)",
      "\u001b[0;32m<ipython-input-22-01095d807f15>\u001b[0m in \u001b[0;36m<module>\u001b[0;34m()\u001b[0m\n\u001b[1;32m     43\u001b[0m \u001b[0;34m\u001b[0m\u001b[0m\n\u001b[1;32m     44\u001b[0m \u001b[0;31m# use_def_Pro_pics\u001b[0m\u001b[0;34m\u001b[0m\u001b[0;34m\u001b[0m\u001b[0;34m\u001b[0m\u001b[0m\n\u001b[0;32m---> 45\u001b[0;31m \u001b[0mhd_Pro_dic\u001b[0m \u001b[0;34m=\u001b[0m \u001b[0mPro_result\u001b[0m\u001b[0;34m(\u001b[0m\u001b[0;34m\"/content/crop_hd_footup3.jpg\"\u001b[0m\u001b[0;34m,\u001b[0m \u001b[0mcol_n\u001b[0m\u001b[0;34m=\u001b[0m\u001b[0;36m0\u001b[0m\u001b[0;34m,\u001b[0m \u001b[0mm_n_l\u001b[0m\u001b[0;34m=\u001b[0m\u001b[0;36m0\u001b[0m\u001b[0;34m)\u001b[0m\u001b[0;34m\u001b[0m\u001b[0;34m\u001b[0m\u001b[0m\n\u001b[0m\u001b[1;32m     46\u001b[0m \u001b[0msho_Pro_dic\u001b[0m \u001b[0;34m=\u001b[0m \u001b[0mPro_result\u001b[0m\u001b[0;34m(\u001b[0m\u001b[0;34m\"/content/crop_sho_footup3.jpg\"\u001b[0m\u001b[0;34m,\u001b[0m \u001b[0mcol_n\u001b[0m\u001b[0;34m=\u001b[0m\u001b[0;36m1\u001b[0m\u001b[0;34m,\u001b[0m \u001b[0mm_n_l\u001b[0m\u001b[0;34m=\u001b[0m\u001b[0;36m1\u001b[0m\u001b[0;34m)\u001b[0m\u001b[0;34m\u001b[0m\u001b[0;34m\u001b[0m\u001b[0m\n\u001b[1;32m     47\u001b[0m \u001b[0mft_Pro_dic\u001b[0m \u001b[0;34m=\u001b[0m \u001b[0mPro_result\u001b[0m\u001b[0;34m(\u001b[0m\u001b[0;34m\"/content/crop_ft_footup3.jpg\"\u001b[0m\u001b[0;34m,\u001b[0m \u001b[0mcol_n\u001b[0m\u001b[0;34m=\u001b[0m\u001b[0;36m2\u001b[0m\u001b[0;34m,\u001b[0m \u001b[0mm_n_l\u001b[0m\u001b[0;34m=\u001b[0m\u001b[0;36m2\u001b[0m\u001b[0;34m)\u001b[0m\u001b[0;34m\u001b[0m\u001b[0;34m\u001b[0m\u001b[0m\n",
      "\u001b[0;32m<ipython-input-22-01095d807f15>\u001b[0m in \u001b[0;36mPro_result\u001b[0;34m(fn_path, col_n, m_n_l)\u001b[0m\n\u001b[1;32m      7\u001b[0m \u001b[0;31m#    )\u001b[0m\u001b[0;34m\u001b[0m\u001b[0;34m\u001b[0m\u001b[0;34m\u001b[0m\u001b[0m\n\u001b[1;32m      8\u001b[0m \u001b[0;32mdef\u001b[0m \u001b[0mPro_result\u001b[0m\u001b[0;34m(\u001b[0m\u001b[0mfn_path\u001b[0m\u001b[0;34m,\u001b[0m \u001b[0mcol_n\u001b[0m\u001b[0;34m=\u001b[0m\u001b[0;36m0\u001b[0m\u001b[0;34m,\u001b[0m \u001b[0mm_n_l\u001b[0m\u001b[0;34m=\u001b[0m\u001b[0;36m0\u001b[0m\u001b[0;34m)\u001b[0m\u001b[0;34m:\u001b[0m\u001b[0;34m\u001b[0m\u001b[0;34m\u001b[0m\u001b[0m\n\u001b[0;32m----> 9\u001b[0;31m   \u001b[0mimg\u001b[0m \u001b[0;34m=\u001b[0m \u001b[0mImage\u001b[0m\u001b[0;34m.\u001b[0m\u001b[0mopen\u001b[0m\u001b[0;34m(\u001b[0m\u001b[0mfn_path\u001b[0m\u001b[0;34m)\u001b[0m\u001b[0;34m.\u001b[0m\u001b[0mresize\u001b[0m\u001b[0;34m(\u001b[0m\u001b[0;34m(\u001b[0m\u001b[0;36m256\u001b[0m\u001b[0;34m,\u001b[0m \u001b[0;36m256\u001b[0m\u001b[0;34m)\u001b[0m\u001b[0;34m)\u001b[0m\u001b[0;34m.\u001b[0m\u001b[0mconvert\u001b[0m\u001b[0;34m(\u001b[0m\u001b[0;34m\"RGB\"\u001b[0m\u001b[0;34m)\u001b[0m\u001b[0;34m\u001b[0m\u001b[0;34m\u001b[0m\u001b[0m\n\u001b[0m\u001b[1;32m     10\u001b[0m   \u001b[0mimg_np\u001b[0m \u001b[0;34m=\u001b[0m \u001b[0mnp\u001b[0m\u001b[0;34m.\u001b[0m\u001b[0marray\u001b[0m\u001b[0;34m(\u001b[0m\u001b[0mimg\u001b[0m\u001b[0;34m)\u001b[0m\u001b[0;34m\u001b[0m\u001b[0;34m\u001b[0m\u001b[0m\n\u001b[1;32m     11\u001b[0m   \u001b[0mimg_np_r\u001b[0m \u001b[0;34m=\u001b[0m \u001b[0mimg_np\u001b[0m\u001b[0;34m.\u001b[0m\u001b[0mreshape\u001b[0m\u001b[0;34m(\u001b[0m\u001b[0;36m1\u001b[0m\u001b[0;34m,\u001b[0m \u001b[0;36m256\u001b[0m\u001b[0;34m,\u001b[0m \u001b[0;36m256\u001b[0m\u001b[0;34m,\u001b[0m \u001b[0;36m3\u001b[0m\u001b[0;34m)\u001b[0m \u001b[0;34m/\u001b[0m \u001b[0;36m255.0\u001b[0m\u001b[0;34m\u001b[0m\u001b[0;34m\u001b[0m\u001b[0m\n",
      "\u001b[0;32m/usr/local/lib/python3.7/dist-packages/PIL/Image.py\u001b[0m in \u001b[0;36mopen\u001b[0;34m(fp, mode)\u001b[0m\n\u001b[1;32m   2841\u001b[0m \u001b[0;34m\u001b[0m\u001b[0m\n\u001b[1;32m   2842\u001b[0m     \u001b[0;32mif\u001b[0m \u001b[0mfilename\u001b[0m\u001b[0;34m:\u001b[0m\u001b[0;34m\u001b[0m\u001b[0;34m\u001b[0m\u001b[0m\n\u001b[0;32m-> 2843\u001b[0;31m         \u001b[0mfp\u001b[0m \u001b[0;34m=\u001b[0m \u001b[0mbuiltins\u001b[0m\u001b[0;34m.\u001b[0m\u001b[0mopen\u001b[0m\u001b[0;34m(\u001b[0m\u001b[0mfilename\u001b[0m\u001b[0;34m,\u001b[0m \u001b[0;34m\"rb\"\u001b[0m\u001b[0;34m)\u001b[0m\u001b[0;34m\u001b[0m\u001b[0;34m\u001b[0m\u001b[0m\n\u001b[0m\u001b[1;32m   2844\u001b[0m         \u001b[0mexclusive_fp\u001b[0m \u001b[0;34m=\u001b[0m \u001b[0;32mTrue\u001b[0m\u001b[0;34m\u001b[0m\u001b[0;34m\u001b[0m\u001b[0m\n\u001b[1;32m   2845\u001b[0m \u001b[0;34m\u001b[0m\u001b[0m\n",
      "\u001b[0;31mFileNotFoundError\u001b[0m: [Errno 2] No such file or directory: '/content/crop_hd_footup3.jpg'"
     ]
    }
   ],
   "source": [
    "# input_and_Pro_pic\n",
    "model_n_list = [hd_model, sho_model, ft_model]\n",
    "\n",
    "# def (fn_path 圖片路徑, \n",
    "#    col_n column_name_list_num [0:head, 1:sho, 2:foot], \n",
    "#    m_nl model_name_list_num [0:hd_model, 1:sho_model, 2:ft_model]\n",
    "#    )   \n",
    "def Pro_result(fn_path, col_n=0, m_n_l=0):\n",
    "  img = Image.open(fn_path).resize((256, 256)).convert(\"RGB\")\n",
    "  img_np = np.array(img)\n",
    "  img_np_r = img_np.reshape(1, 256, 256, 3) / 255.0\n",
    "  img.close()\n",
    "  Pro_res_dic = {\n",
    "            \"ans_name\":[],\n",
    "            \"Proba\":[],\n",
    "            \"T&F\":[],\n",
    "            \"W_F\":[],\n",
    "            }\n",
    "  # 拿column_name, 預設[0] -> \"head\"\n",
    "  ans_name = ans_df.columns.tolist()[col_n]\n",
    "  # print(ans_hd_names)\n",
    "            \n",
    "  # Proba_wrong_head\n",
    "  pre = model_n_list[m_n_l].predict(img_np_r)[0]\n",
    "  pre_list = pre.tolist()\n",
    "  # print(\"預測數值\", pre_list)\n",
    "\n",
    "  # round(Proba) -> 0 or 1\n",
    "  ans = round(pre_list[0])\n",
    "  # print(\"T&F:\", ans_hd)\n",
    "\n",
    "  # class wrong or correct\n",
    "  def T_F_r(ans):\n",
    "    T_F_List = [\"correct\",\"wrong\"]\n",
    "    return T_F_List[1] if ans == 1 else T_F_List[0]\n",
    "\n",
    "  # 設定回字典\n",
    "  Pro_res_dic[\"ans_name\"].append(ans_name)\n",
    "  Pro_res_dic[\"Proba\"].append(pre_list[0])\n",
    "  Pro_res_dic[\"T&F\"].append(ans)\n",
    "  Pro_res_dic[\"W_F\"].append(T_F_r(ans))\n",
    "  return Pro_res_dic\n",
    "\n",
    "# use_def_Pro_pics \n",
    "hd_Pro_dic = Pro_result(\"/content/crop_hd_footup3.jpg\", col_n=0, m_n_l=0)\n",
    "sho_Pro_dic = Pro_result(\"/content/crop_sho_footup3.jpg\", col_n=1, m_n_l=1)\n",
    "ft_Pro_dic = Pro_result(\"/content/crop_ft_footup3.jpg\", col_n=2, m_n_l=2)\n",
    "\n",
    "print(str(hd_Pro_dic) + \"\\n\" + str(sho_Pro_dic) + \"\\n\" + str(ft_Pro_dic))"
   ]
  },
  {
   "cell_type": "code",
   "execution_count": null,
   "metadata": {
    "id": "C_rJeqP8ezjD"
   },
   "outputs": [],
   "source": [
    "# final_present\n",
    "pd.DataFrame([hd_Pro_dic, sho_Pro_dic, ft_Pro_dic])"
   ]
  }
 ],
 "metadata": {
  "accelerator": "GPU",
  "colab": {
   "collapsed_sections": [],
   "name": "0519_ttgroup_cnn_gap_skeleton_crop_thtree_parts.ipynb",
   "provenance": [],
   "toc_visible": true
  },
  "kernelspec": {
   "display_name": "Python 3",
   "language": "python",
   "name": "python3"
  },
  "language_info": {
   "codemirror_mode": {
    "name": "ipython",
    "version": 3
   },
   "file_extension": ".py",
   "mimetype": "text/x-python",
   "name": "python",
   "nbconvert_exporter": "python",
   "pygments_lexer": "ipython3",
   "version": "3.7.0"
  }
 },
 "nbformat": 4,
 "nbformat_minor": 1
}
