{
 "cells": [
  {
   "cell_type": "code",
   "execution_count": 8,
   "id": "6353e586",
   "metadata": {},
   "outputs": [],
   "source": [
    "import codecs\n",
    "import json\n",
    "import pandas as pd\n",
    "import numpy as np\n",
    "from PIL import Image\n",
    "import os"
   ]
  },
  {
   "cell_type": "code",
   "execution_count": 9,
   "id": "55da20ca",
   "metadata": {},
   "outputs": [],
   "source": [
    "columns = {\n",
    "    'coco_col':[\n",
    "        'Nose_x', 'Nose_y', 'Neck_x', 'Neck_y',\n",
    "        'R-Sho_x', 'R-Sho_y', 'R-Elb_x', 'R-Elb_y',\n",
    "        'R-Wr_x', 'R-Wr_y', 'L-Sho_x', 'L-Sho_y',\n",
    "        'L-Elb_x', 'L-Elb_y', 'L-Wr_x', 'L-Wr_y',\n",
    "        'R-Hip_x', 'R-Hip_y', 'R-Knee_x', 'R-Knee_y',\n",
    "        'R-Ank_x', 'R-Ank_y', 'L-Hip_x', 'L-Hip_y',\n",
    "        'L-Knee_x', 'L-Knee_y', 'L-Ank_x', 'L-Ank_y',\n",
    "        'R-Eye_x', 'R-Eye_y', 'L-Eye_x', 'L-Eye_y',\n",
    "        'R-Ear_x', 'R-Ear_y', 'L-Ear_x', 'L-Ear_y'\n",
    "    ],\n",
    "    'shoulder': {\n",
    "        'x': [\"R-Sho_x\", \"L-Sho_x\"],\n",
    "        'y': [\"R-Sho_y\", \"L-Sho_y\"]\n",
    "    },\n",
    "    'head': {\n",
    "        'x': [\"Nose_x\", \"R-Eye_x\", \"R-Ear_x\", \"L-Eye_x\", \"L-Ear_x\"],\n",
    "        'y': [\"Nose_y\", \"R-Eye_y\", \"R-Ear_y\", \"L-Eye_y\", \"L-Ear_y\"]\n",
    "    },\n",
    "    'foot': {\n",
    "        'x': [\"R-Hip_x\", \"R-Knee_x\", \"R-Ank_x\", \"L-Hip_x\", \"L-Knee_x\", \"L-Ank_x\"],\n",
    "        'y': [\"R-Hip_y\", \"R-Knee_y\", \"R-Ank_y\", \"L-Hip_y\", \"L-Knee_y\", \"L-Ank_y\"]\n",
    "    }\n",
    "}"
   ]
  },
  {
   "cell_type": "code",
   "execution_count": 10,
   "id": "6d571ea6",
   "metadata": {},
   "outputs": [
    {
     "data": {
      "text/plain": [
       "array([[135.26121521,  82.29299927, 120.75476837, 122.44316864,\n",
       "         79.07674408, 120.78696442,  63.03407669, 170.46331787,\n",
       "        107.97054291, 199.44595337, 160.84274292, 125.63224792,\n",
       "        159.32095337, 172.11149597, 131.96954346, 199.36805725,\n",
       "         83.86221313, 199.39543152,  98.34481049, 237.88076782,\n",
       "        103.18218994, 252.35716248, 135.26828003, 199.42927551,\n",
       "        197.82197571, 224.99945068,   0.        ,   0.        ,\n",
       "        130.38537598,  72.69991302, 146.39308167,  77.46865845,\n",
       "        112.7401886 ,  82.25769043, 152.85861206,  83.95893097]])"
      ]
     },
     "execution_count": 10,
     "metadata": {},
     "output_type": "execute_result"
    }
   ],
   "source": [
    "with codecs.open('../media/user_sent_key_points.json', 'r', encoding='utf-8') as obj_text:\n",
    "    data = json.loads(obj_text.read())\n",
    "    data = np.array(data).reshape(1, 36)\n",
    "data"
   ]
  },
  {
   "cell_type": "code",
   "execution_count": 11,
   "id": "5b714299",
   "metadata": {},
   "outputs": [],
   "source": [
    "key_points = pd.DataFrame(data, columns=columns[\"coco_col\"])"
   ]
  },
  {
   "cell_type": "code",
   "execution_count": 12,
   "id": "471867cb",
   "metadata": {},
   "outputs": [],
   "source": [
    "x = key_points[columns['shoulder']['x']][0:1]\n",
    "x = x.astype(int).iloc[0].values\n",
    "idx = np.nonzero(x)\n",
    "left, right = min(x[idx]) - 10, max(x[idx]) + 10\n",
    "y = key_points[columns['shoulder']['y']][0:1]\n",
    "y = y.astype(int).iloc[0].values\n",
    "idx = np.nonzero(y)\n",
    "top, bottom = min(y[idx]) - 10, max(y[idx]) + 10\n",
    "with Image.open('../media/user_sent_skeleton.jpg') as img:\n",
    "    img_crop = img.crop((left, top, right, bottom))\n",
    "    img_crop.save('crop_sho_.jpg')"
   ]
  },
  {
   "cell_type": "code",
   "execution_count": 13,
   "id": "39830d99",
   "metadata": {},
   "outputs": [],
   "source": [
    "x = key_points[columns['head']['x']][0:1] #  \"Neck_x\"\n",
    "x = x.astype(int).iloc[0].values\n",
    "idx = np.nonzero(x)\n",
    "left, right = min(x[idx]) - 10, max(x[idx]) + 10\n",
    "y = key_points[columns['head']['y']][0:1]\n",
    "y = y.astype(int).iloc[0].values\n",
    "idx = np.nonzero(y)\n",
    "top, bottom = min(y[idx]) - 10, max(y[idx]) + 10\n",
    "with Image.open('../media/user_sent_skeleton.jpg') as img:\n",
    "    img_crop = img.crop((left, top, right, bottom))\n",
    "    img_crop.save('crop_hd_.jpg')"
   ]
  },
  {
   "cell_type": "code",
   "execution_count": 14,
   "id": "6a3a12af",
   "metadata": {},
   "outputs": [],
   "source": [
    "x = key_points[columns['foot']['x']][0:1]\n",
    "x = x.astype(int).iloc[0].values\n",
    "idx = np.nonzero(x)\n",
    "left, right = (0, 10) if sum(x) == 0 else (min(x[idx]) - 10, max(x[idx]) + 10)\n",
    "y = key_points[columns['foot']['y']][0:1]\n",
    "y = y.astype(int).iloc[0].values\n",
    "idx = np.nonzero(y)\n",
    "top, bottom = (0, 10) if sum(y) == 0 else (min(y[idx]) - 10, max(y[idx]) + 10)\n",
    "with Image.open('../media/user_sent_skeleton.jpg') as img:\n",
    "    img_crop = img.crop((left, top, right, bottom))\n",
    "    img_crop.save('crop_ft_.jpg')"
   ]
  },
  {
   "cell_type": "code",
   "execution_count": null,
   "id": "f8c5971b",
   "metadata": {},
   "outputs": [],
   "source": []
  }
 ],
 "metadata": {
  "kernelspec": {
   "display_name": "Python 3",
   "language": "python",
   "name": "python3"
  },
  "language_info": {
   "codemirror_mode": {
    "name": "ipython",
    "version": 3
   },
   "file_extension": ".py",
   "mimetype": "text/x-python",
   "name": "python",
   "nbconvert_exporter": "python",
   "pygments_lexer": "ipython3",
   "version": "3.7.0"
  }
 },
 "nbformat": 4,
 "nbformat_minor": 5
}
